{
 "cells": [
  {
   "cell_type": "markdown",
   "metadata": {},
   "source": [
    "# Alexander Hrachovina CMC API EDA\n",
    "- Will be exploring Ethereum"
   ]
  },
  {
   "cell_type": "code",
   "execution_count": 53,
   "metadata": {},
   "outputs": [
    {
     "data": {
      "text/plain": [
       "dict_keys(['status', 'data'])"
      ]
     },
     "execution_count": 53,
     "metadata": {},
     "output_type": "execute_result"
    }
   ],
   "source": [
    "from requests import Request, Session\n",
    "from requests.exceptions import ConnectionError, Timeout, TooManyRedirects\n",
    "import json\n",
    "import os \n",
    "from dotenv import load_dotenv\n",
    "\n",
    "load_dotenv()\n",
    "API_KEY = os.getenv(\"COINMARKET_API\")\n",
    "\n",
    "API_URL = \"https://pro-api.coinmarketcap.com/v1/cryptocurrency/quotes/latest\"\n",
    "target_symbol = \"ETH\"\n",
    "\n",
    "parameters = {\n",
    "  'convert':'USD',\n",
    "  'symbol': target_symbol\n",
    "}\n",
    "headers = {\n",
    "  'Accepts': 'application/json',\n",
    "  'X-CMC_PRO_API_KEY': API_KEY,\n",
    "}\n",
    "\n",
    "session = Session()\n",
    "session.headers.update(headers)\n",
    "\n",
    "try:\n",
    "  response = session.get(API_URL, params=parameters)\n",
    "  data = json.loads(response.text)\n",
    "except (ConnectionError, Timeout, TooManyRedirects) as e:\n",
    "  print(e)\n",
    "\n",
    "data.keys()\n"
   ]
  },
  {
   "cell_type": "code",
   "execution_count": 54,
   "metadata": {},
   "outputs": [
    {
     "data": {
      "text/plain": [
       "dict_keys(['ETH'])"
      ]
     },
     "execution_count": 54,
     "metadata": {},
     "output_type": "execute_result"
    }
   ],
   "source": [
    "data['data'].keys()"
   ]
  },
  {
   "cell_type": "code",
   "execution_count": 55,
   "metadata": {},
   "outputs": [
    {
     "data": {
      "text/plain": [
       "{'id': 1027,\n",
       " 'name': 'Ethereum',\n",
       " 'symbol': 'ETH',\n",
       " 'slug': 'ethereum',\n",
       " 'num_market_pairs': 9931,\n",
       " 'date_added': '2015-08-07T00:00:00.000Z',\n",
       " 'tags': ['pos',\n",
       "  'smart-contracts',\n",
       "  'ethereum-ecosystem',\n",
       "  'coinbase-ventures-portfolio',\n",
       "  'three-arrows-capital-portfolio',\n",
       "  'polychain-capital-portfolio',\n",
       "  'heco-ecosystem',\n",
       "  'binance-labs-portfolio',\n",
       "  'solana-ecosystem',\n",
       "  'blockchain-capital-portfolio',\n",
       "  'boostvc-portfolio',\n",
       "  'cms-holdings-portfolio',\n",
       "  'dcg-portfolio',\n",
       "  'dragonfly-capital-portfolio',\n",
       "  'electric-capital-portfolio',\n",
       "  'fabric-ventures-portfolio',\n",
       "  'framework-ventures-portfolio',\n",
       "  'hashkey-capital-portfolio',\n",
       "  'kenetic-capital-portfolio',\n",
       "  'huobi-capital-portfolio',\n",
       "  'alameda-research-portfolio',\n",
       "  'a16z-portfolio',\n",
       "  '1confirmation-portfolio',\n",
       "  'winklevoss-capital-portfolio',\n",
       "  'usv-portfolio',\n",
       "  'placeholder-ventures-portfolio',\n",
       "  'pantera-capital-portfolio',\n",
       "  'multicoin-capital-portfolio',\n",
       "  'paradigm-portfolio',\n",
       "  'tezos-ecosystem',\n",
       "  'near-protocol-ecosystem',\n",
       "  'velas-ecosystem',\n",
       "  'ethereum-pow-ecosystem',\n",
       "  'osmosis-ecosystem',\n",
       "  'layer-1',\n",
       "  'ftx-bankruptcy-estate',\n",
       "  'zksync-era-ecosystem',\n",
       "  'viction-ecosystem',\n",
       "  'klaytn-ecosystem',\n",
       "  'sora-ecosystem',\n",
       "  'rsk-rbtc-ecosystem',\n",
       "  'starknet-ecosystem'],\n",
       " 'max_supply': None,\n",
       " 'circulating_supply': 120547760.01376195,\n",
       " 'total_supply': 120547760.01376195,\n",
       " 'is_active': 1,\n",
       " 'infinite_supply': True,\n",
       " 'platform': None,\n",
       " 'cmc_rank': 2,\n",
       " 'is_fiat': 0,\n",
       " 'self_reported_circulating_supply': None,\n",
       " 'self_reported_market_cap': None,\n",
       " 'tvl_ratio': None,\n",
       " 'last_updated': '2025-02-14T16:05:00.000Z',\n",
       " 'quote': {'USD': {'price': 2733.3472172900565,\n",
       "   'volume_24h': 14473505388.574823,\n",
       "   'volume_change_24h': -37.2149,\n",
       "   'percent_change_1h': 0.70185745,\n",
       "   'percent_change_24h': 3.55081526,\n",
       "   'percent_change_7d': 1.16524298,\n",
       "   'percent_change_30d': -18.44979381,\n",
       "   'percent_change_60d': -30.85337371,\n",
       "   'percent_change_90d': -12.85534045,\n",
       "   'market_cap': 329498884384.1658,\n",
       "   'market_cap_dominance': 10.1962,\n",
       "   'fully_diluted_market_cap': 329498884384.17,\n",
       "   'tvl': None,\n",
       "   'last_updated': '2025-02-14T16:05:00.000Z'}}}"
      ]
     },
     "execution_count": 55,
     "metadata": {},
     "output_type": "execute_result"
    }
   ],
   "source": [
    "data = data['data'][target_symbol]\n",
    "data"
   ]
  },
  {
   "cell_type": "markdown",
   "metadata": {},
   "source": [
    "## EDA Metadata/Fundamentals\n",
    "- filtering out what I consider to be less important/interesting"
   ]
  },
  {
   "cell_type": "code",
   "execution_count": 56,
   "metadata": {},
   "outputs": [
    {
     "data": {
      "text/plain": [
       "('Ethereum', 'ETH', 2, False, True, False)"
      ]
     },
     "execution_count": 56,
     "metadata": {},
     "output_type": "execute_result"
    }
   ],
   "source": [
    "name = data['name']\n",
    "ticker = data['symbol']\n",
    "coin_rank = data['cmc_rank']\n",
    "has_max_supply = True if data['max_supply'] != None else False\n",
    "proof_of_stake = True if \"pos\" in data['tags'] else False\n",
    "proof_of_work = True if \"pow\" in data['tags'] else False\n",
    "name, ticker, coin_rank, has_max_supply, proof_of_stake, proof_of_work"
   ]
  },
  {
   "cell_type": "markdown",
   "metadata": {},
   "source": [
    "## EDA regarding price and volume\n",
    "- Filtering out less important/interesting data\n",
    "- some small cleaning of price % data aswell"
   ]
  },
  {
   "cell_type": "code",
   "execution_count": 57,
   "metadata": {},
   "outputs": [
    {
     "data": {
      "text/plain": [
       "{'price': 2733.3472172900565,\n",
       " 'volume_24h': 14473505388.574823,\n",
       " 'volume_change_24h': -37.2149,\n",
       " 'percent_change_1h': 0.70185745,\n",
       " 'percent_change_24h': 3.55081526,\n",
       " 'percent_change_7d': 1.16524298,\n",
       " 'percent_change_30d': -18.44979381,\n",
       " 'percent_change_60d': -30.85337371,\n",
       " 'percent_change_90d': -12.85534045,\n",
       " 'market_cap': 329498884384.1658,\n",
       " 'market_cap_dominance': 10.1962,\n",
       " 'fully_diluted_market_cap': 329498884384.17,\n",
       " 'tvl': None,\n",
       " 'last_updated': '2025-02-14T16:05:00.000Z'}"
      ]
     },
     "execution_count": 57,
     "metadata": {},
     "output_type": "execute_result"
    }
   ],
   "source": [
    "price = data['quote']['USD']\n",
    "price"
   ]
  },
  {
   "cell_type": "code",
   "execution_count": 58,
   "metadata": {},
   "outputs": [
    {
     "data": {
      "text/plain": [
       "{'price': 2733.3472172900565,\n",
       " 'volume_24h': 14473505388.574823,\n",
       " 'volume_change_24h': -37.2149,\n",
       " 'percent_change_1h': '0.70%',\n",
       " 'percent_change_24h': '3.55%',\n",
       " 'percent_change_7d': '1.17%',\n",
       " 'percent_change_30d': '-18.45%',\n",
       " 'percent_change_60d': '-30.85%',\n",
       " 'percent_change_90d': '-12.86%',\n",
       " 'market_cap': 329498884384.1658,\n",
       " 'market_cap_dominance': 10.1962,\n",
       " 'fully_diluted_market_cap': 329498884384.17,\n",
       " 'last_updated': '2025-02-14T16:05:00.000Z',\n",
       " 'total_value_locked': None}"
      ]
     },
     "execution_count": 58,
     "metadata": {},
     "output_type": "execute_result"
    }
   ],
   "source": [
    "for key, value in price.items():\n",
    "    if key.startswith('percent_'):\n",
    "        price[key] = f\"{float(value):.2f}%\"  \n",
    "\n",
    "if 'tvl' in price: \n",
    "    price['total_value_locked'] = price.pop('tvl')\n",
    "\n",
    "price "
   ]
  },
  {
   "cell_type": "code",
   "execution_count": 59,
   "metadata": {},
   "outputs": [
    {
     "name": "stdout",
     "output_type": "stream",
     "text": [
      "price: 2733.3472172900565\n",
      "volume_24h: 14473505388.574823\n",
      "volume_change_24h: -37.2149\n",
      "percent_change_1h: 0.70%\n",
      "percent_change_24h: 3.55%\n",
      "percent_change_7d: 1.17%\n",
      "percent_change_30d: -18.45%\n",
      "percent_change_60d: -30.85%\n",
      "percent_change_90d: -12.86%\n",
      "market_cap: 329498884384.1658\n",
      "market_cap_dominance: 10.1962\n",
      "fully_diluted_market_cap: 329498884384.17\n",
      "last_updated: 2025-02-14T16:05:00.000Z\n",
      "total_value_locked: None\n"
     ]
    }
   ],
   "source": [
    "for key, value in price.items():\n",
    "    print(f\"{key}: {value}\")"
   ]
  }
 ],
 "metadata": {
  "kernelspec": {
   "display_name": ".venv",
   "language": "python",
   "name": "python3"
  },
  "language_info": {
   "codemirror_mode": {
    "name": "ipython",
    "version": 3
   },
   "file_extension": ".py",
   "mimetype": "text/x-python",
   "name": "python",
   "nbconvert_exporter": "python",
   "pygments_lexer": "ipython3",
   "version": "3.12.5"
  }
 },
 "nbformat": 4,
 "nbformat_minor": 2
}
