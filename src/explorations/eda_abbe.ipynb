{
 "cells": [
  {
   "cell_type": "markdown",
   "metadata": {},
   "source": [
    "# Abdulrahman Coinmarketcap API EDA"
   ]
  },
  {
   "cell_type": "code",
   "execution_count": 1,
   "metadata": {},
   "outputs": [
    {
     "data": {
      "text/plain": [
       "dict_keys(['status', 'data'])"
      ]
     },
     "execution_count": 1,
     "metadata": {},
     "output_type": "execute_result"
    }
   ],
   "source": [
    "from requests import Request, Session\n",
    "from requests.exceptions import ConnectionError, Timeout, TooManyRedirects\n",
    "import json\n",
    "import os \n",
    "from dotenv import load_dotenv\n",
    "\n",
    "load_dotenv()\n",
    "API_KEY = os.getenv(\"COINMARKET_API\")\n",
    "\n",
    "API_URL = \"https://pro-api.coinmarketcap.com/v1/cryptocurrency/quotes/latest\"\n",
    "target_symbol = \"ETH\"\n",
    "\n",
    "parameters = {\n",
    "  'convert':'USD',\n",
    "  'symbol': target_symbol\n",
    "}\n",
    "headers = {\n",
    "  'Accepts': 'application/json',\n",
    "  'X-CMC_PRO_API_KEY': API_KEY,\n",
    "}\n",
    "\n",
    "session = Session()\n",
    "session.headers.update(headers)\n",
    "\n",
    "try:\n",
    "  response = session.get(API_URL, params=parameters)\n",
    "  data = json.loads(response.text)\n",
    "except (ConnectionError, Timeout, TooManyRedirects) as e:\n",
    "  print(e)\n",
    "\n",
    "data.keys()\n"
   ]
  },
  {
   "cell_type": "code",
   "execution_count": 5,
   "metadata": {},
   "outputs": [
    {
     "data": {
      "text/plain": [
       "{'timestamp': '2025-02-17T10:14:33.925Z',\n",
       " 'error_code': 0,\n",
       " 'error_message': None,\n",
       " 'elapsed': 27,\n",
       " 'credit_count': 1,\n",
       " 'notice': None}"
      ]
     },
     "execution_count": 5,
     "metadata": {},
     "output_type": "execute_result"
    }
   ],
   "source": [
    "data[\"status\"]\n"
   ]
  },
  {
   "cell_type": "code",
   "execution_count": 7,
   "metadata": {},
   "outputs": [
    {
     "data": {
      "text/plain": [
       "dict_keys(['ETH'])"
      ]
     },
     "execution_count": 7,
     "metadata": {},
     "output_type": "execute_result"
    }
   ],
   "source": [
    "(data.get(\"data\", {}).keys())"
   ]
  },
  {
   "cell_type": "code",
   "execution_count": 9,
   "metadata": {},
   "outputs": [],
   "source": [
    "if \"status\" in data and data[\"status\"].get(\"error_message\"):\n",
    "    (\"API-fel:\", data[\"status\"][\"error_message\"])"
   ]
  },
  {
   "cell_type": "code",
   "execution_count": 11,
   "metadata": {},
   "outputs": [
    {
     "data": {
      "text/plain": [
       "{'ETH': {'id': 1027,\n",
       "  'name': 'Ethereum',\n",
       "  'symbol': 'ETH',\n",
       "  'slug': 'ethereum',\n",
       "  'num_market_pairs': 9931,\n",
       "  'date_added': '2015-08-07T00:00:00.000Z',\n",
       "  'tags': ['pos',\n",
       "   'smart-contracts',\n",
       "   'ethereum-ecosystem',\n",
       "   'coinbase-ventures-portfolio',\n",
       "   'three-arrows-capital-portfolio',\n",
       "   'polychain-capital-portfolio',\n",
       "   'heco-ecosystem',\n",
       "   'binance-labs-portfolio',\n",
       "   'avalanche-ecosystem',\n",
       "   'solana-ecosystem',\n",
       "   'blockchain-capital-portfolio',\n",
       "   'boostvc-portfolio',\n",
       "   'cms-holdings-portfolio',\n",
       "   'dcg-portfolio',\n",
       "   'dragonfly-capital-portfolio',\n",
       "   'electric-capital-portfolio',\n",
       "   'fabric-ventures-portfolio',\n",
       "   'framework-ventures-portfolio',\n",
       "   'hashkey-capital-portfolio',\n",
       "   'kenetic-capital-portfolio',\n",
       "   'huobi-capital-portfolio',\n",
       "   'alameda-research-portfolio',\n",
       "   'a16z-portfolio',\n",
       "   '1confirmation-portfolio',\n",
       "   'winklevoss-capital-portfolio',\n",
       "   'usv-portfolio',\n",
       "   'placeholder-ventures-portfolio',\n",
       "   'pantera-capital-portfolio',\n",
       "   'multicoin-capital-portfolio',\n",
       "   'paradigm-portfolio',\n",
       "   'tezos-ecosystem',\n",
       "   'near-protocol-ecosystem',\n",
       "   'velas-ecosystem',\n",
       "   'ethereum-pow-ecosystem',\n",
       "   'osmosis-ecosystem',\n",
       "   'layer-1',\n",
       "   'ftx-bankruptcy-estate',\n",
       "   'zksync-era-ecosystem',\n",
       "   'viction-ecosystem',\n",
       "   'klaytn-ecosystem',\n",
       "   'sora-ecosystem',\n",
       "   'rsk-rbtc-ecosystem',\n",
       "   'starknet-ecosystem'],\n",
       "  'max_supply': None,\n",
       "  'circulating_supply': 120555264.23101225,\n",
       "  'total_supply': 120555264.23101225,\n",
       "  'is_active': 1,\n",
       "  'infinite_supply': True,\n",
       "  'platform': None,\n",
       "  'cmc_rank': 2,\n",
       "  'is_fiat': 0,\n",
       "  'self_reported_circulating_supply': None,\n",
       "  'self_reported_market_cap': None,\n",
       "  'tvl_ratio': None,\n",
       "  'last_updated': '2025-02-17T10:13:00.000Z',\n",
       "  'quote': {'USD': {'price': 2755.59919888993,\n",
       "    'volume_24h': 12500860371.222076,\n",
       "    'volume_change_24h': 22.2489,\n",
       "    'percent_change_1h': 1.23768199,\n",
       "    'percent_change_24h': 1.83073359,\n",
       "    'percent_change_7d': 3.617134,\n",
       "    'percent_change_30d': -15.16820388,\n",
       "    'percent_change_60d': -24.92521451,\n",
       "    'percent_change_90d': -11.28019788,\n",
       "    'market_cap': 332201989536.9412,\n",
       "    'market_cap_dominance': 10.3526,\n",
       "    'fully_diluted_market_cap': 332201989536.94,\n",
       "    'tvl': None,\n",
       "    'last_updated': '2025-02-17T10:13:00.000Z'}}}}"
      ]
     },
     "execution_count": 11,
     "metadata": {},
     "output_type": "execute_result"
    }
   ],
   "source": [
    "data[\"data\"]"
   ]
  },
  {
   "cell_type": "code",
   "execution_count": 13,
   "metadata": {},
   "outputs": [
    {
     "name": "stdout",
     "output_type": "stream",
     "text": [
      "Current price of ETH is: 2755.59919888993\n"
     ]
    }
   ],
   "source": [
    "try:\n",
    "    \n",
    "    print(\"Current price of\", target_symbol, \"is:\", data[\"data\"][target_symbol][\"quote\"][\"USD\"][\"price\"])\n",
    "except KeyError:\n",
    "        (\"kunde inte hämta priset kontrollera api svaret \")"
   ]
  },
  {
   "cell_type": "code",
   "execution_count": 23,
   "metadata": {},
   "outputs": [
    {
     "data": {
      "text/plain": [
       "1.83073359"
      ]
     },
     "execution_count": 23,
     "metadata": {},
     "output_type": "execute_result"
    }
   ],
   "source": [
    "data[\"data\"][\"ETH\"][\"quote\"][\"USD\"][\"percent_change_24h\"]"
   ]
  },
  {
   "cell_type": "code",
   "execution_count": 30,
   "metadata": {},
   "outputs": [
    {
     "name": "stdout",
     "output_type": "stream",
     "text": [
      "Priset för ETH är: $2755.60\n"
     ]
    }
   ],
   "source": [
    "if response.status_code == 200:\n",
    "    data = response.json()\n",
    "    if 'data' in data and target_symbol in data['data']:\n",
    "        eth_data = data['data'][target_symbol]\n",
    "        eth_price = eth_data['quote']['USD']['price']\n",
    "        print(f\"Priset för {target_symbol} är: ${eth_price:.2f}\")\n",
    "    else:\n",
    "        print(f\"Kunde inte hitta data för symbolen: {target_symbol}\")\n",
    "else:\n",
    "    print(f\"Request misslyckades med statuskod: {response.status_code}\")"
   ]
  },
  {
   "cell_type": "code",
   "execution_count": 31,
   "metadata": {},
   "outputs": [],
   "source": [
    "eth = data[\"data\"][target_symbol][\"quote\"][\"USD\"]"
   ]
  },
  {
   "cell_type": "code",
   "execution_count": 36,
   "metadata": {},
   "outputs": [
    {
     "data": {
      "text/plain": [
       "332201989536.9412"
      ]
     },
     "execution_count": 36,
     "metadata": {},
     "output_type": "execute_result"
    }
   ],
   "source": [
    "eth_mc = eth['market_cap']\n",
    "eth_mc"
   ]
  },
  {
   "cell_type": "code",
   "execution_count": 37,
   "metadata": {},
   "outputs": [
    {
     "data": {
      "text/plain": [
       "332201989536.94"
      ]
     },
     "execution_count": 37,
     "metadata": {},
     "output_type": "execute_result"
    }
   ],
   "source": [
    "eth_diluted= eth['fully_diluted_market_cap']\n",
    "eth_diluted"
   ]
  },
  {
   "cell_type": "code",
   "execution_count": 38,
   "metadata": {},
   "outputs": [
    {
     "data": {
      "text/plain": [
       "1.0000000000000038"
      ]
     },
     "execution_count": 38,
     "metadata": {},
     "output_type": "execute_result"
    }
   ],
   "source": [
    "eth_mc / eth_diluted"
   ]
  }
 ],
 "metadata": {
  "kernelspec": {
   "display_name": ".venv",
   "language": "python",
   "name": "python3"
  },
  "language_info": {
   "codemirror_mode": {
    "name": "ipython",
    "version": 3
   },
   "file_extension": ".py",
   "mimetype": "text/x-python",
   "name": "python",
   "nbconvert_exporter": "python",
   "pygments_lexer": "ipython3",
   "version": "3.12.8"
  }
 },
 "nbformat": 4,
 "nbformat_minor": 2
}
