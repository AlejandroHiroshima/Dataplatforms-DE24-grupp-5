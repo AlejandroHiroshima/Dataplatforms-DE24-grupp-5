{
 "cells": [
  {
   "cell_type": "markdown",
   "metadata": {},
   "source": [
    "# CoinMarketCap EDA - 964Code\n"
   ]
  },
  {
   "cell_type": "code",
   "execution_count": 29,
   "metadata": {},
   "outputs": [
    {
     "data": {
      "text/plain": [
       "{'status': {'timestamp': '2025-02-16T20:08:19.958Z',\n",
       "  'error_code': 0,\n",
       "  'error_message': None,\n",
       "  'elapsed': 16,\n",
       "  'credit_count': 1,\n",
       "  'notice': None},\n",
       " 'data': {'BTC': {'id': 1,\n",
       "   'name': 'Bitcoin',\n",
       "   'symbol': 'BTC',\n",
       "   'slug': 'bitcoin',\n",
       "   'num_market_pairs': 11941,\n",
       "   'date_added': '2010-07-13T00:00:00.000Z',\n",
       "   'tags': ['mineable',\n",
       "    'pow',\n",
       "    'sha-256',\n",
       "    'store-of-value',\n",
       "    'state-channel',\n",
       "    'coinbase-ventures-portfolio',\n",
       "    'three-arrows-capital-portfolio',\n",
       "    'polychain-capital-portfolio',\n",
       "    'binance-labs-portfolio',\n",
       "    'blockchain-capital-portfolio',\n",
       "    'boostvc-portfolio',\n",
       "    'cms-holdings-portfolio',\n",
       "    'dcg-portfolio',\n",
       "    'dragonfly-capital-portfolio',\n",
       "    'electric-capital-portfolio',\n",
       "    'fabric-ventures-portfolio',\n",
       "    'framework-ventures-portfolio',\n",
       "    'galaxy-digital-portfolio',\n",
       "    'huobi-capital-portfolio',\n",
       "    'alameda-research-portfolio',\n",
       "    'a16z-portfolio',\n",
       "    '1confirmation-portfolio',\n",
       "    'winklevoss-capital-portfolio',\n",
       "    'usv-portfolio',\n",
       "    'placeholder-ventures-portfolio',\n",
       "    'pantera-capital-portfolio',\n",
       "    'multicoin-capital-portfolio',\n",
       "    'paradigm-portfolio',\n",
       "    'bitcoin-ecosystem',\n",
       "    'ftx-bankruptcy-estate',\n",
       "    '2017-2018-alt-season'],\n",
       "   'max_supply': 21000000,\n",
       "   'circulating_supply': 19825218,\n",
       "   'total_supply': 19825218,\n",
       "   'is_active': 1,\n",
       "   'infinite_supply': False,\n",
       "   'platform': None,\n",
       "   'cmc_rank': 1,\n",
       "   'is_fiat': 0,\n",
       "   'self_reported_circulating_supply': None,\n",
       "   'self_reported_market_cap': None,\n",
       "   'tvl_ratio': None,\n",
       "   'last_updated': '2025-02-16T20:06:00.000Z',\n",
       "   'quote': {'USD': {'price': 97054.43214753913,\n",
       "     'volume_24h': 15458153825.47714,\n",
       "     'volume_change_24h': -21.252,\n",
       "     'percent_change_1h': 0.23732375,\n",
       "     'percent_change_24h': -0.58676913,\n",
       "     'percent_change_7d': 0.93540874,\n",
       "     'percent_change_30d': -8.02071828,\n",
       "     'percent_change_60d': -4.81107105,\n",
       "     'percent_change_90d': 6.84583067,\n",
       "     'market_cap': 1924125275191.1714,\n",
       "     'market_cap_dominance': 59.8727,\n",
       "     'fully_diluted_market_cap': 2038143075098.32,\n",
       "     'tvl': None,\n",
       "     'last_updated': '2025-02-16T20:06:00.000Z'}}}}}"
      ]
     },
     "execution_count": 29,
     "metadata": {},
     "output_type": "execute_result"
    }
   ],
   "source": [
    "from requests import Request, Session\n",
    "from requests.exceptions import ConnectionError, Timeout, TooManyRedirects\n",
    "import json\n",
    "from dotenv import load_dotenv\n",
    "import os\n",
    "import pandas as pd\n",
    "\n",
    "load_dotenv()\n",
    "\n",
    "target_symbol = \"BTC\"\n",
    "API_KEY = os.getenv(\"COINMARKET_API\")\n",
    "\n",
    "\n",
    "url = \"https://pro-api.coinmarketcap.com/v1/cryptocurrency/quotes/latest\"\n",
    "parameters = {\"symbol\": target_symbol, \"convert\": \"USD\"}\n",
    "headers = {\n",
    "    \"Accepts\": \"application/json\",\n",
    "    \"X-CMC_PRO_API_KEY\": API_KEY,\n",
    "}\n",
    "\n",
    "session = Session()\n",
    "session.headers.update(headers)\n",
    "\n",
    "try:\n",
    "    response = session.get(url, params=parameters)\n",
    "    data = json.loads(response.text)\n",
    "except (ConnectionError, Timeout, TooManyRedirects) as e:\n",
    "    print(e)\n",
    "\n",
    "data\n",
    "\n"
   ]
  },
  {
   "cell_type": "code",
   "execution_count": 20,
   "metadata": {},
   "outputs": [
    {
     "data": {
      "text/plain": [
       "dict_keys(['status', 'data'])"
      ]
     },
     "execution_count": 20,
     "metadata": {},
     "output_type": "execute_result"
    }
   ],
   "source": [
    "# See which keys are available for the dictionary that we got from the response. \n",
    "data.keys()"
   ]
  },
  {
   "cell_type": "code",
   "execution_count": 21,
   "metadata": {},
   "outputs": [],
   "source": [
    "data[\"status\"]\n",
    "# {\n",
    "#     \"timestamp\": \"2025-02-16T19:35:45.754Z\",\n",
    "#     \"error_code\": 0,\n",
    "#     \"error_message\": None,\n",
    "#     \"elapsed\": 23,\n",
    "#     \"credit_count\": 1,\n",
    "#     \"notice\": None,\n",
    "# }\n",
    "\n",
    "data[\"data\"]\n",
    "\n",
    "# {\n",
    "#     \"BTC\": {\n",
    "#         \"id\": 1,\n",
    "#         \"name\": \"Bitcoin\",\n",
    "#         \"symbol\": \"BTC\",\n",
    "#         \"slug\": \"bitcoin\",\n",
    "#         \"num_market_pairs\": 11941,\n",
    "#         \"date_added\": \"2010-07-13T00:00:00.000Z\",\n",
    "#         \"tags\": [\n",
    "#             \"mineable\",\n",
    "#             \"pow\",\n",
    "#             \"sha-256\",\n",
    "#             \"store-of-value\",\n",
    "#             \"state-channel\",\n",
    "#             \"coinbase-ventures-portfolio\",\n",
    "#             \"three-arrows-capital-portfolio\",\n",
    "#             \"polychain-capital-portfolio\",\n",
    "#             \"binance-labs-portfolio\",\n",
    "#             \"blockchain-capital-portfolio\",\n",
    "#             \"boostvc-portfolio\",\n",
    "#             \"cms-holdings-portfolio\",\n",
    "#             \"dcg-portfolio\",\n",
    "#             \"dragonfly-capital-portfolio\",\n",
    "#             \"electric-capital-portfolio\",\n",
    "#             \"fabric-ventures-portfolio\",\n",
    "#             \"framework-ventures-portfolio\",\n",
    "#             \"galaxy-digital-portfolio\",\n",
    "#             \"huobi-capital-portfolio\",\n",
    "#             \"alameda-research-portfolio\",\n",
    "#             \"a16z-portfolio\",\n",
    "#             \"1confirmation-portfolio\",\n",
    "#             \"winklevoss-capital-portfolio\",\n",
    "#             \"usv-portfolio\",\n",
    "#             \"placeholder-ventures-portfolio\",\n",
    "#             \"pantera-capital-portfolio\",\n",
    "#             \"multicoin-capital-portfolio\",\n",
    "#             \"paradigm-portfolio\",\n",
    "#             \"bitcoin-ecosystem\",\n",
    "#             \"ftx-bankruptcy-estate\",\n",
    "#             \"2017-2018-alt-season\",\n",
    "#         ],\n",
    "#         \"max_supply\": 21000000,\n",
    "#         \"circulating_supply\": 19825218,\n",
    "#         \"total_supply\": 19825218,\n",
    "#         \"is_active\": 1,\n",
    "#         \"infinite_supply\": False,\n",
    "#         \"platform\": None,\n",
    "#         \"cmc_rank\": 1,\n",
    "#         \"is_fiat\": 0,\n",
    "#         \"self_reported_circulating_supply\": None,\n",
    "#         \"self_reported_market_cap\": None,\n",
    "#         \"tvl_ratio\": None,\n",
    "#         \"last_updated\": \"2025-02-16T19:32:00.000Z\",\n",
    "#         \"quote\": {\n",
    "#             \"USD\": {\n",
    "#                 \"price\": 96975.08111202858,\n",
    "#                 \"volume_24h\": 15314739528.268248,\n",
    "#                 \"volume_change_24h\": -25.6239,\n",
    "#                 \"percent_change_1h\": 0.14337837,\n",
    "#                 \"percent_change_24h\": -0.66591712,\n",
    "#                 \"percent_change_7d\": 0.9593897,\n",
    "#                 \"percent_change_30d\": -7.97591651,\n",
    "#                 \"percent_change_60d\": -6.68976369,\n",
    "#                 \"percent_change_90d\": 7.98442992,\n",
    "#                 \"market_cap\": 1922552123613.649,\n",
    "#                 \"market_cap_dominance\": 59.9546,\n",
    "#                 \"fully_diluted_market_cap\": 2036476703352.6,\n",
    "#                 \"tvl\": None,\n",
    "#                 \"last_updated\": \"2025-02-16T19:32:00.000Z\",\n",
    "#             }\n",
    "#         },\n",
    "#     }\n",
    "# }\n",
    "\n",
    "# Set btc_data for shorter syntax accessing they keys. \n",
    "btc_data = data[\"data\"][\"BTC\"]"
   ]
  },
  {
   "cell_type": "code",
   "execution_count": null,
   "metadata": {},
   "outputs": [
    {
     "data": {
      "text/plain": [
       "'2025-02-16T19:46:00.000Z'"
      ]
     },
     "execution_count": 22,
     "metadata": {},
     "output_type": "execute_result"
    }
   ],
   "source": [
    "# When BTC was last updated\n",
    "btc_data[\"last_updated\"] "
   ]
  },
  {
   "cell_type": "code",
   "execution_count": null,
   "metadata": {},
   "outputs": [
    {
     "data": {
      "text/plain": [
       "'2025-02-16T19:48:26.270Z'"
      ]
     },
     "execution_count": 23,
     "metadata": {},
     "output_type": "execute_result"
    }
   ],
   "source": [
    "# When data was fetched\n",
    "data[\"status\"][\"timestamp\"]\n",
    "\n",
    "# Why is there a two minute difference between BTC DATA last updated compared to Status?"
   ]
  },
  {
   "cell_type": "code",
   "execution_count": 25,
   "metadata": {},
   "outputs": [
    {
     "data": {
      "text/plain": [
       "{'price': 97039.29651480902,\n",
       " 'volume_24h': 14546022242.663784,\n",
       " 'volume_change_24h': -27.8501,\n",
       " 'percent_change_1h': 0.13156664,\n",
       " 'percent_change_24h': -0.56054965,\n",
       " 'percent_change_7d': 1.11406538,\n",
       " 'percent_change_30d': -8.2119357,\n",
       " 'percent_change_60d': -6.13287202,\n",
       " 'percent_change_90d': 7.39328684,\n",
       " 'market_cap': 1923825207972.729,\n",
       " 'market_cap_dominance': 59.8961,\n",
       " 'fully_diluted_market_cap': 2037825226810.99,\n",
       " 'tvl': None,\n",
       " 'last_updated': '2025-02-16T19:46:00.000Z'}"
      ]
     },
     "execution_count": 25,
     "metadata": {},
     "output_type": "execute_result"
    }
   ],
   "source": [
    "# access most relevant data or statistics by accessing key \"quote\" using btc_data\n",
    "btc_data[\"quote\"]\n",
    "\n",
    "btc_data[\"quote\"][\"USD\"]"
   ]
  },
  {
   "cell_type": "code",
   "execution_count": null,
   "metadata": {},
   "outputs": [],
   "source": []
  },
  {
   "cell_type": "markdown",
   "metadata": {},
   "source": [
    "## Trying to create a DF with Pandas and do some charts"
   ]
  },
  {
   "cell_type": "code",
   "execution_count": 36,
   "metadata": {},
   "outputs": [
    {
     "data": {
      "text/html": [
       "<div>\n",
       "<style scoped>\n",
       "    .dataframe tbody tr th:only-of-type {\n",
       "        vertical-align: middle;\n",
       "    }\n",
       "\n",
       "    .dataframe tbody tr th {\n",
       "        vertical-align: top;\n",
       "    }\n",
       "\n",
       "    .dataframe thead th {\n",
       "        text-align: right;\n",
       "    }\n",
       "</style>\n",
       "<table border=\"1\" class=\"dataframe\">\n",
       "  <thead>\n",
       "    <tr style=\"text-align: right;\">\n",
       "      <th></th>\n",
       "      <th>price</th>\n",
       "      <th>volume_24h</th>\n",
       "      <th>volume_change_24h</th>\n",
       "      <th>percent_change_1h</th>\n",
       "      <th>percent_change_24h</th>\n",
       "      <th>percent_change_7d</th>\n",
       "      <th>percent_change_30d</th>\n",
       "      <th>percent_change_60d</th>\n",
       "      <th>percent_change_90d</th>\n",
       "      <th>market_cap</th>\n",
       "      <th>market_cap_dominance</th>\n",
       "      <th>fully_diluted_market_cap</th>\n",
       "      <th>tvl</th>\n",
       "      <th>last_updated</th>\n",
       "    </tr>\n",
       "  </thead>\n",
       "  <tbody>\n",
       "    <tr>\n",
       "      <th>0</th>\n",
       "      <td>97039.296515</td>\n",
       "      <td>1.454602e+10</td>\n",
       "      <td>-27.8501</td>\n",
       "      <td>0.131567</td>\n",
       "      <td>-0.56055</td>\n",
       "      <td>1.114065</td>\n",
       "      <td>-8.211936</td>\n",
       "      <td>-6.132872</td>\n",
       "      <td>7.393287</td>\n",
       "      <td>1.923825e+12</td>\n",
       "      <td>59.8961</td>\n",
       "      <td>2.037825e+12</td>\n",
       "      <td>None</td>\n",
       "      <td>2025-02-16T19:46:00.000Z</td>\n",
       "    </tr>\n",
       "  </tbody>\n",
       "</table>\n",
       "</div>"
      ],
      "text/plain": [
       "          price    volume_24h  volume_change_24h  percent_change_1h  \\\n",
       "0  97039.296515  1.454602e+10           -27.8501           0.131567   \n",
       "\n",
       "   percent_change_24h  percent_change_7d  percent_change_30d  \\\n",
       "0            -0.56055           1.114065           -8.211936   \n",
       "\n",
       "   percent_change_60d  percent_change_90d    market_cap  market_cap_dominance  \\\n",
       "0           -6.132872            7.393287  1.923825e+12               59.8961   \n",
       "\n",
       "   fully_diluted_market_cap   tvl              last_updated  \n",
       "0              2.037825e+12  None  2025-02-16T19:46:00.000Z  "
      ]
     },
     "execution_count": 36,
     "metadata": {},
     "output_type": "execute_result"
    }
   ],
   "source": [
    "btc_pd_data = btc_data[\"quote\"][\"USD\"]\n",
    "\n",
    "btc_pd_data\n",
    "\n",
    "df = pd.DataFrame([btc_pd_data])\n",
    "\n",
    "df"
   ]
  },
  {
   "cell_type": "code",
   "execution_count": null,
   "metadata": {},
   "outputs": [],
   "source": []
  }
 ],
 "metadata": {
  "kernelspec": {
   "display_name": ".venv",
   "language": "python",
   "name": "python3"
  },
  "language_info": {
   "codemirror_mode": {
    "name": "ipython",
    "version": 3
   },
   "file_extension": ".py",
   "mimetype": "text/x-python",
   "name": "python",
   "nbconvert_exporter": "python",
   "pygments_lexer": "ipython3",
   "version": "3.12.8"
  }
 },
 "nbformat": 4,
 "nbformat_minor": 2
}
